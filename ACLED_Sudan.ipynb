{
 "cells": [
  {
   "cell_type": "markdown",
   "id": "85dc8c42-ea92-489e-8ca5-0ac325043422",
   "metadata": {},
   "source": [
    "***SUDAN CIVIL WAR 2023***"
   ]
  },
  {
   "cell_type": "markdown",
   "id": "8307d8f5-4ebd-44d7-baac-44fc2318dc95",
   "metadata": {},
   "source": [
    "## Importing Python Libraries"
   ]
  },
  {
   "cell_type": "code",
   "execution_count": 1,
   "id": "620d9b48-9d4b-4dba-9321-487cb8951429",
   "metadata": {},
   "outputs": [],
   "source": [
    "import numpy as np\n",
    "import matplotlib.pyplot as plt\n",
    "import pandas as pd\n",
    "import geopandas as gpd\n",
    "import seaborn as sns\n",
    "import sklearn\n",
    "from sklearn.linear_model import LinearRegression\n",
    "from sklearn.model_selection import train_test_split, GridSearchCV, validation_curve\n",
    "from sklearn import preprocessing # Import label encoder \n",
    "from sklearn.preprocessing import StandardScaler\n",
    "\n",
    "import statsmodels.api as sm\n",
    "\n",
    "pd.set_option('display.max_rows', 300) # specifies number of rows to show\n",
    "pd.options.display.float_format = '{:40,.4f}'.format # specifies default number format to 4 decimal places\n",
    "plt.style.use('ggplot') # specifies that graphs should use ggplot styling\n",
    "%matplotlib inline"
   ]
  },
  {
   "cell_type": "code",
   "execution_count": 2,
   "id": "b1a2ad87-4a6e-453d-b80d-8f26e3489d6e",
   "metadata": {},
   "outputs": [],
   "source": [
    "import warnings\n",
    "warnings.filterwarnings(\"ignore\")"
   ]
  },
  {
   "cell_type": "markdown",
   "id": "d279b3b0-0d54-4202-848e-4887de0060e9",
   "metadata": {},
   "source": [
    "## DATA LOADING AND EXPLORATION"
   ]
  },
  {
   "cell_type": "code",
   "execution_count": 4,
   "id": "de40c36e-6832-45d8-b323-6379407d42c0",
   "metadata": {},
   "outputs": [],
   "source": [
    "acled_data = pd.read_csv(\"data/ACLED_2023-03-01-2024-06-16-Sudan.csv\", encoding = \"latin1\")\n",
    "#work/Documents/CASA/Final_Dissertation_work/Final_Dissertation/data/ACLED_2023-03-01-2024-06-16-Sudan.csv"
   ]
  },
  {
   "cell_type": "code",
   "execution_count": 5,
   "id": "4639e80d-5428-4d83-8da9-8549025f604b",
   "metadata": {},
   "outputs": [
    {
     "data": {
      "text/html": [
       "<div>\n",
       "<style scoped>\n",
       "    .dataframe tbody tr th:only-of-type {\n",
       "        vertical-align: middle;\n",
       "    }\n",
       "\n",
       "    .dataframe tbody tr th {\n",
       "        vertical-align: top;\n",
       "    }\n",
       "\n",
       "    .dataframe thead th {\n",
       "        text-align: right;\n",
       "    }\n",
       "</style>\n",
       "<table border=\"1\" class=\"dataframe\">\n",
       "  <thead>\n",
       "    <tr style=\"text-align: right;\">\n",
       "      <th></th>\n",
       "      <th>event_id_cnty</th>\n",
       "      <th>event_date</th>\n",
       "      <th>year</th>\n",
       "      <th>time_precision</th>\n",
       "      <th>disorder_type</th>\n",
       "      <th>event_type</th>\n",
       "      <th>sub_event_type</th>\n",
       "      <th>actor1</th>\n",
       "      <th>assoc_actor_1</th>\n",
       "      <th>inter1</th>\n",
       "      <th>...</th>\n",
       "      <th>latitude</th>\n",
       "      <th>longitude</th>\n",
       "      <th>geo_precision</th>\n",
       "      <th>source</th>\n",
       "      <th>source_scale</th>\n",
       "      <th>notes</th>\n",
       "      <th>fatalities</th>\n",
       "      <th>tags</th>\n",
       "      <th>timestamp</th>\n",
       "      <th>population_best</th>\n",
       "    </tr>\n",
       "  </thead>\n",
       "  <tbody>\n",
       "    <tr>\n",
       "      <th>0</th>\n",
       "      <td>SUD27933</td>\n",
       "      <td>24 May 2024</td>\n",
       "      <td>2024</td>\n",
       "      <td>1</td>\n",
       "      <td>Strategic developments</td>\n",
       "      <td>Strategic developments</td>\n",
       "      <td>Disrupted weapons use</td>\n",
       "      <td>Police Forces of Sudan (2019-)</td>\n",
       "      <td>NaN</td>\n",
       "      <td>1</td>\n",
       "      <td>...</td>\n",
       "      <td>13.5295</td>\n",
       "      <td>34.7820</td>\n",
       "      <td>1</td>\n",
       "      <td>Sudan News Agency</td>\n",
       "      <td>National</td>\n",
       "      <td>Weapons seizure: On 24 May 2024, police forces...</td>\n",
       "      <td>0</td>\n",
       "      <td>NaN</td>\n",
       "      <td>1716850558</td>\n",
       "      <td>NaN</td>\n",
       "    </tr>\n",
       "    <tr>\n",
       "      <th>1</th>\n",
       "      <td>SUD27933</td>\n",
       "      <td>24 May 2024</td>\n",
       "      <td>2024</td>\n",
       "      <td>1</td>\n",
       "      <td>Strategic developments</td>\n",
       "      <td>Strategic developments</td>\n",
       "      <td>Disrupted weapons use</td>\n",
       "      <td>Unidentified Armed Group (Sudan)</td>\n",
       "      <td>NaN</td>\n",
       "      <td>3</td>\n",
       "      <td>...</td>\n",
       "      <td>13.5295</td>\n",
       "      <td>34.7820</td>\n",
       "      <td>1</td>\n",
       "      <td>Sudan News Agency</td>\n",
       "      <td>National</td>\n",
       "      <td>Weapons seizure: On 24 May 2024, police forces...</td>\n",
       "      <td>0</td>\n",
       "      <td>NaN</td>\n",
       "      <td>1716850558</td>\n",
       "      <td>NaN</td>\n",
       "    </tr>\n",
       "    <tr>\n",
       "      <th>2</th>\n",
       "      <td>SUD27943</td>\n",
       "      <td>24 May 2024</td>\n",
       "      <td>2024</td>\n",
       "      <td>1</td>\n",
       "      <td>Political violence</td>\n",
       "      <td>Explosions/Remote violence</td>\n",
       "      <td>Shelling/artillery/missile attack</td>\n",
       "      <td>Rapid Support Forces</td>\n",
       "      <td>NaN</td>\n",
       "      <td>2</td>\n",
       "      <td>...</td>\n",
       "      <td>15.6921</td>\n",
       "      <td>32.4854</td>\n",
       "      <td>1</td>\n",
       "      <td>Al Rakoba; Twitter</td>\n",
       "      <td>New media-National</td>\n",
       "      <td>On 24 May 2024, RSF shelled artillery targetin...</td>\n",
       "      <td>7</td>\n",
       "      <td>NaN</td>\n",
       "      <td>1716850558</td>\n",
       "      <td>155,108.0000</td>\n",
       "    </tr>\n",
       "    <tr>\n",
       "      <th>3</th>\n",
       "      <td>SUD27943</td>\n",
       "      <td>24 May 2024</td>\n",
       "      <td>2024</td>\n",
       "      <td>1</td>\n",
       "      <td>Political violence</td>\n",
       "      <td>Explosions/Remote violence</td>\n",
       "      <td>Shelling/artillery/missile attack</td>\n",
       "      <td>Civilians (Sudan)</td>\n",
       "      <td>NaN</td>\n",
       "      <td>7</td>\n",
       "      <td>...</td>\n",
       "      <td>15.6921</td>\n",
       "      <td>32.4854</td>\n",
       "      <td>1</td>\n",
       "      <td>Al Rakoba; Twitter</td>\n",
       "      <td>New media-National</td>\n",
       "      <td>On 24 May 2024, RSF shelled artillery targetin...</td>\n",
       "      <td>7</td>\n",
       "      <td>NaN</td>\n",
       "      <td>1716850558</td>\n",
       "      <td>155,108.0000</td>\n",
       "    </tr>\n",
       "    <tr>\n",
       "      <th>4</th>\n",
       "      <td>SUD27977</td>\n",
       "      <td>24 May 2024</td>\n",
       "      <td>2024</td>\n",
       "      <td>1</td>\n",
       "      <td>Strategic developments</td>\n",
       "      <td>Strategic developments</td>\n",
       "      <td>Other</td>\n",
       "      <td>Rapid Support Forces</td>\n",
       "      <td>NaN</td>\n",
       "      <td>2</td>\n",
       "      <td>...</td>\n",
       "      <td>13.5938</td>\n",
       "      <td>30.9284</td>\n",
       "      <td>1</td>\n",
       "      <td>Radio Dabanga</td>\n",
       "      <td>National</td>\n",
       "      <td>Non-violent activity: On 24 May 2024, RSF orde...</td>\n",
       "      <td>0</td>\n",
       "      <td>NaN</td>\n",
       "      <td>1716850558</td>\n",
       "      <td>NaN</td>\n",
       "    </tr>\n",
       "  </tbody>\n",
       "</table>\n",
       "<p>5 rows × 29 columns</p>\n",
       "</div>"
      ],
      "text/plain": [
       "  event_id_cnty   event_date  year  time_precision           disorder_type  \\\n",
       "0      SUD27933  24 May 2024  2024               1  Strategic developments   \n",
       "1      SUD27933  24 May 2024  2024               1  Strategic developments   \n",
       "2      SUD27943  24 May 2024  2024               1      Political violence   \n",
       "3      SUD27943  24 May 2024  2024               1      Political violence   \n",
       "4      SUD27977  24 May 2024  2024               1  Strategic developments   \n",
       "\n",
       "                   event_type                     sub_event_type  \\\n",
       "0      Strategic developments              Disrupted weapons use   \n",
       "1      Strategic developments              Disrupted weapons use   \n",
       "2  Explosions/Remote violence  Shelling/artillery/missile attack   \n",
       "3  Explosions/Remote violence  Shelling/artillery/missile attack   \n",
       "4      Strategic developments                              Other   \n",
       "\n",
       "                             actor1 assoc_actor_1  inter1  ...  \\\n",
       "0    Police Forces of Sudan (2019-)           NaN       1  ...   \n",
       "1  Unidentified Armed Group (Sudan)           NaN       3  ...   \n",
       "2              Rapid Support Forces           NaN       2  ...   \n",
       "3                 Civilians (Sudan)           NaN       7  ...   \n",
       "4              Rapid Support Forces           NaN       2  ...   \n",
       "\n",
       "                                  latitude  \\\n",
       "0                                  13.5295   \n",
       "1                                  13.5295   \n",
       "2                                  15.6921   \n",
       "3                                  15.6921   \n",
       "4                                  13.5938   \n",
       "\n",
       "                                 longitude  geo_precision              source  \\\n",
       "0                                  34.7820              1   Sudan News Agency   \n",
       "1                                  34.7820              1   Sudan News Agency   \n",
       "2                                  32.4854              1  Al Rakoba; Twitter   \n",
       "3                                  32.4854              1  Al Rakoba; Twitter   \n",
       "4                                  30.9284              1       Radio Dabanga   \n",
       "\n",
       "         source_scale                                              notes  \\\n",
       "0            National  Weapons seizure: On 24 May 2024, police forces...   \n",
       "1            National  Weapons seizure: On 24 May 2024, police forces...   \n",
       "2  New media-National  On 24 May 2024, RSF shelled artillery targetin...   \n",
       "3  New media-National  On 24 May 2024, RSF shelled artillery targetin...   \n",
       "4            National  Non-violent activity: On 24 May 2024, RSF orde...   \n",
       "\n",
       "  fatalities  tags   timestamp                          population_best  \n",
       "0          0   NaN  1716850558                                      NaN  \n",
       "1          0   NaN  1716850558                                      NaN  \n",
       "2          7   NaN  1716850558                             155,108.0000  \n",
       "3          7   NaN  1716850558                             155,108.0000  \n",
       "4          0   NaN  1716850558                                      NaN  \n",
       "\n",
       "[5 rows x 29 columns]"
      ]
     },
     "execution_count": 5,
     "metadata": {},
     "output_type": "execute_result"
    }
   ],
   "source": [
    "acled_data.head()"
   ]
  },
  {
   "cell_type": "code",
   "execution_count": null,
   "id": "acaa3301-aefd-416c-bcfc-70ef9e6c20da",
   "metadata": {},
   "outputs": [],
   "source": [
    "print(acled_data.shape)"
   ]
  },
  {
   "cell_type": "markdown",
   "id": "47b99332-7680-4035-8d18-adf361aa4de5",
   "metadata": {},
   "source": [
    "The ACLED dataset has 15498 rows and 29 columns."
   ]
  },
  {
   "cell_type": "markdown",
   "id": "3143afe7-a311-427e-a89a-3a169128e0a3",
   "metadata": {},
   "source": [
    "DATA CLEANING AND ANALYSIS"
   ]
  },
  {
   "cell_type": "code",
   "execution_count": null,
   "id": "59aedb22-9832-4907-b204-04f56b4ae9f6",
   "metadata": {},
   "outputs": [],
   "source": [
    "acled_data.info(verbose=True)"
   ]
  },
  {
   "cell_type": "markdown",
   "id": "a76b65d0-887d-4f7d-b739-273b53cfe7bc",
   "metadata": {},
   "source": [
    "Calculating all NaNs and Dropping those not required in analysis"
   ]
  },
  {
   "cell_type": "markdown",
   "id": "4e96e1b6-f86a-4c1f-ac84-eac0e26c8420",
   "metadata": {},
   "source": [
    "**COUNTING NULLS BY COLUMN**"
   ]
  },
  {
   "cell_type": "code",
   "execution_count": null,
   "id": "0117becf-bade-4681-8842-4a685504f736",
   "metadata": {},
   "outputs": [],
   "source": [
    "acled_data.isnull().sum(axis=0).sort_values(ascending=False)[:12]"
   ]
  },
  {
   "cell_type": "markdown",
   "id": "74329fee-ce64-44af-8fd0-e113fe5bf56c",
   "metadata": {},
   "source": [
    "Dropping admin3 and tags column as it has maximum number of NULL values"
   ]
  },
  {
   "cell_type": "code",
   "execution_count": null,
   "id": "84f67b6a-057e-4257-9ae2-65d0134cd0f5",
   "metadata": {},
   "outputs": [],
   "source": [
    "acled_data.drop(columns=['admin3', 'tags'], inplace=True)"
   ]
  },
  {
   "cell_type": "markdown",
   "id": "ad5078c8-5fe7-43c8-b3a5-698cbaa91cb3",
   "metadata": {},
   "source": [
    "**COUNTING NULLS BY ROWS**"
   ]
  },
  {
   "cell_type": "code",
   "execution_count": null,
   "id": "6f80a508-1a16-48b5-b240-c0a770e03163",
   "metadata": {},
   "outputs": [],
   "source": [
    "acled_data.isnull().sum(axis=1).sort_values(ascending=False).head(20)"
   ]
  },
  {
   "cell_type": "code",
   "execution_count": null,
   "id": "ccfc3d11-8e81-4a57-86e5-8dc107970d98",
   "metadata": {},
   "outputs": [],
   "source": [
    "acled_data.columns"
   ]
  },
  {
   "cell_type": "code",
   "execution_count": null,
   "id": "a95acc3e-02fd-4198-bf84-91b53ce4149e",
   "metadata": {},
   "outputs": [],
   "source": [
    "#import folium\n",
    "#from folium.plugins import MarkerCluster\n",
    "\n",
    "\n",
    "# Filter necessary columns and drop rows with missing values\n",
    "#data_filtered = acled_data[['latitude', 'longitude', 'fatalities', 'event_date']]\n",
    "#data_filtered.dropna(subset=['latitude', 'longitude'], inplace=True)\n",
    "\n",
    "# Create a base map centered on Sudan\n",
    "#sudan_map = folium.Map(location=[15.5, 32.5], zoom_start=6)\n",
    "\n",
    "# Create a marker cluster\n",
    "#marker_cluster = MarkerCluster().add_to(sudan_map)\n",
    "\n",
    "# Add points to the map\n",
    "#for idx, row in data_filtered.iterrows():\n",
    "   # folium.Marker(\n",
    "       # location=[row['latitude'], row['longitude']],\n",
    "        #popup=f\"Date: {row['event_date']}<br>Fatalities: {row['fatalities']}\",\n",
    "        #icon=folium.Icon(color='red' if row['fatalities'] > 0 else 'blue')\n",
    "   # ).add_to(marker_cluster)\n",
    "\n",
    "# Save the map to an HTML file\n",
    "#sudan_map.save('/mnt/data/sudan_map.html')\n"
   ]
  },
  {
   "cell_type": "code",
   "execution_count": null,
   "id": "ff8cb021-a8c0-4001-b797-3d1ac254e4f4",
   "metadata": {},
   "outputs": [],
   "source": [
    "#from shapely.geometry import Point\n",
    "\n",
    "\n",
    "# Filter necessary columns and drop rows with missing values\n",
    "#data_filtered = acled_data[['latitude', 'longitude', 'fatalities', 'event_date']]\n",
    "#data_filtered.dropna(subset=['latitude', 'longitude'], inplace=True)\n",
    "\n",
    "# Convert the event_date column to datetime\n",
    "#data_filtered['event_date'] = pd.to_datetime(data_filtered['event_date'])\n",
    "\n",
    "# Create a GeoDataFrame\n",
    "#geometry = [Point(xy) for xy in zip(data_filtered['longitude'], data_filtered['latitude'])]\n",
    "#gdf = gpd.GeoDataFrame(data_filtered, geometry=geometry)\n",
    "\n",
    "# Load the shapefile for Sudan (assuming you have it, or we can use a world shapefile and filter Sudan)\n",
    "#world = gpd.read_file(gpd.datasets.get_path('naturalearth_lowres'))\n",
    "#sudan = world[world.name == \"Sudan\"]\n",
    "\n",
    "# Plotting\n",
    "#fig, ax = plt.subplots(1, 1, figsize=(15, 15))\n",
    "#sudan.plot(ax=ax, color='white', edgecolor='black')\n",
    "\n",
    "# Plotting points\n",
    "#gdf.plot(ax=ax, marker='o', color=gdf['event_date'].apply(lambda x: plt.cm.viridis((x - gdf['event_date'].min()).days / (gdf['event_date'].max() - gdf['event_date'].min()).days)), markersize=gdf['fatalities']*10, alpha=0.6)\n",
    "\n",
    "# Adding a title\n",
    "#plt.title('Map of Attacks in Sudan (Size: Fatalities, Color: Date)', fontsize=15)\n",
    "\n",
    "# Saving the plot as a JPEG file\n",
    "#jpeg_path = '/mnt/data/sudan_attack_map.jpeg'\n",
    "#plt.savefig(jpeg_path, format='jpeg')\n",
    "\n",
    "# Provide the file path of the generated JPEG\n",
    "#jpeg_path\n"
   ]
  },
  {
   "cell_type": "markdown",
   "id": "86ea13dd-5206-43c1-850b-d58f29002548",
   "metadata": {},
   "source": [
    "**Loading multiple csv of FIRMS data from Google Earth Engine**"
   ]
  },
  {
   "cell_type": "code",
   "execution_count": 6,
   "id": "8bc10616-de9d-471e-ae07-c327edd7134e",
   "metadata": {},
   "outputs": [],
   "source": [
    "firms_data1 = pd.read_csv(\"data/Sudan_Fire_Counts_Grid_Year_2004_2006.csv\", encoding = \"latin1\")"
   ]
  },
  {
   "cell_type": "code",
   "execution_count": 7,
   "id": "b0158eaf-1934-4336-93a7-3936c003ffcd",
   "metadata": {},
   "outputs": [
    {
     "data": {
      "text/html": [
       "<div>\n",
       "<style scoped>\n",
       "    .dataframe tbody tr th:only-of-type {\n",
       "        vertical-align: middle;\n",
       "    }\n",
       "\n",
       "    .dataframe tbody tr th {\n",
       "        vertical-align: top;\n",
       "    }\n",
       "\n",
       "    .dataframe thead th {\n",
       "        text-align: right;\n",
       "    }\n",
       "</style>\n",
       "<table border=\"1\" class=\"dataframe\">\n",
       "  <thead>\n",
       "    <tr style=\"text-align: right;\">\n",
       "      <th></th>\n",
       "      <th>system:index</th>\n",
       "      <th>fireCount</th>\n",
       "      <th>grid_id</th>\n",
       "      <th>year</th>\n",
       "      <th>.geo</th>\n",
       "    </tr>\n",
       "  </thead>\n",
       "  <tbody>\n",
       "    <tr>\n",
       "      <th>0</th>\n",
       "      <td>0</td>\n",
       "      <td>1</td>\n",
       "      <td>52,19</td>\n",
       "      <td>2,004.0000</td>\n",
       "      <td>{\"geodesic\":false,\"crs\":{\"type\":\"name\",\"proper...</td>\n",
       "    </tr>\n",
       "    <tr>\n",
       "      <th>1</th>\n",
       "      <td>1</td>\n",
       "      <td>2</td>\n",
       "      <td>52,19</td>\n",
       "      <td>2,005.0000</td>\n",
       "      <td>{\"geodesic\":false,\"crs\":{\"type\":\"name\",\"proper...</td>\n",
       "    </tr>\n",
       "    <tr>\n",
       "      <th>2</th>\n",
       "      <td>2</td>\n",
       "      <td>1</td>\n",
       "      <td>52,19</td>\n",
       "      <td>2,006.0000</td>\n",
       "      <td>{\"geodesic\":false,\"crs\":{\"type\":\"name\",\"proper...</td>\n",
       "    </tr>\n",
       "    <tr>\n",
       "      <th>3</th>\n",
       "      <td>3</td>\n",
       "      <td>1</td>\n",
       "      <td>53,19</td>\n",
       "      <td>2,004.0000</td>\n",
       "      <td>{\"geodesic\":false,\"crs\":{\"type\":\"name\",\"proper...</td>\n",
       "    </tr>\n",
       "    <tr>\n",
       "      <th>4</th>\n",
       "      <td>4</td>\n",
       "      <td>1</td>\n",
       "      <td>53,19</td>\n",
       "      <td>2,005.0000</td>\n",
       "      <td>{\"geodesic\":false,\"crs\":{\"type\":\"name\",\"proper...</td>\n",
       "    </tr>\n",
       "  </tbody>\n",
       "</table>\n",
       "</div>"
      ],
      "text/plain": [
       "   system:index  fireCount grid_id                                     year  \\\n",
       "0             0          1   52,19                               2,004.0000   \n",
       "1             1          2   52,19                               2,005.0000   \n",
       "2             2          1   52,19                               2,006.0000   \n",
       "3             3          1   53,19                               2,004.0000   \n",
       "4             4          1   53,19                               2,005.0000   \n",
       "\n",
       "                                                .geo  \n",
       "0  {\"geodesic\":false,\"crs\":{\"type\":\"name\",\"proper...  \n",
       "1  {\"geodesic\":false,\"crs\":{\"type\":\"name\",\"proper...  \n",
       "2  {\"geodesic\":false,\"crs\":{\"type\":\"name\",\"proper...  \n",
       "3  {\"geodesic\":false,\"crs\":{\"type\":\"name\",\"proper...  \n",
       "4  {\"geodesic\":false,\"crs\":{\"type\":\"name\",\"proper...  "
      ]
     },
     "execution_count": 7,
     "metadata": {},
     "output_type": "execute_result"
    }
   ],
   "source": [
    "firms_data1.head()"
   ]
  },
  {
   "cell_type": "code",
   "execution_count": null,
   "id": "bae605cc-f62e-445b-9d17-0755601afb1a",
   "metadata": {},
   "outputs": [],
   "source": [
    "#work/Documents/CASA/Final_Dissertation_work/Final_Dissertation/data/ACLED_2023-03-01-2024-06-16-Sudan.csv"
   ]
  },
  {
   "cell_type": "code",
   "execution_count": 17,
   "id": "930b443f-30b4-487a-8b90-6ea7c299ebe0",
   "metadata": {},
   "outputs": [
    {
     "name": "stdout",
     "output_type": "stream",
     "text": [
      "<class 'pandas.core.frame.DataFrame'>\n",
      "RangeIndex: 2550 entries, 0 to 2549\n",
      "Data columns (total 5 columns):\n",
      " #   Column        Non-Null Count  Dtype  \n",
      "---  ------        --------------  -----  \n",
      " 0   system:index  2550 non-null   int64  \n",
      " 1   fireCount     2550 non-null   int64  \n",
      " 2   grid_id       2550 non-null   object \n",
      " 3   year          2550 non-null   float64\n",
      " 4   .geo          2550 non-null   object \n",
      "dtypes: float64(1), int64(2), object(2)\n",
      "memory usage: 99.7+ KB\n"
     ]
    }
   ],
   "source": [
    "firms_data1.info()"
   ]
  },
  {
   "cell_type": "code",
   "execution_count": 18,
   "id": "ac656e2b-74f7-4226-97d4-c3c1e758023f",
   "metadata": {},
   "outputs": [
    {
     "data": {
      "text/plain": [
       "(2550, 5)"
      ]
     },
     "execution_count": 18,
     "metadata": {},
     "output_type": "execute_result"
    }
   ],
   "source": [
    "firms_data1.shape"
   ]
  },
  {
   "cell_type": "code",
   "execution_count": 8,
   "id": "a9d9ce07-1613-4457-9fec-3d0acc78aae8",
   "metadata": {},
   "outputs": [],
   "source": [
    "firms_data2= pd.read_csv(\"data/Sudan_Fire_Counts_Grid_Year_2007_2008.csv\", encoding = \"latin1\")"
   ]
  },
  {
   "cell_type": "code",
   "execution_count": 9,
   "id": "e3861421-bff4-49d5-9b59-d8e418f84cb6",
   "metadata": {},
   "outputs": [
    {
     "data": {
      "text/html": [
       "<div>\n",
       "<style scoped>\n",
       "    .dataframe tbody tr th:only-of-type {\n",
       "        vertical-align: middle;\n",
       "    }\n",
       "\n",
       "    .dataframe tbody tr th {\n",
       "        vertical-align: top;\n",
       "    }\n",
       "\n",
       "    .dataframe thead th {\n",
       "        text-align: right;\n",
       "    }\n",
       "</style>\n",
       "<table border=\"1\" class=\"dataframe\">\n",
       "  <thead>\n",
       "    <tr style=\"text-align: right;\">\n",
       "      <th></th>\n",
       "      <th>system:index</th>\n",
       "      <th>fireCount</th>\n",
       "      <th>grid_id</th>\n",
       "      <th>year</th>\n",
       "      <th>.geo</th>\n",
       "    </tr>\n",
       "  </thead>\n",
       "  <tbody>\n",
       "    <tr>\n",
       "      <th>0</th>\n",
       "      <td>0</td>\n",
       "      <td>1</td>\n",
       "      <td>52,19</td>\n",
       "      <td>2,007.0000</td>\n",
       "      <td>{\"geodesic\":false,\"crs\":{\"type\":\"name\",\"proper...</td>\n",
       "    </tr>\n",
       "    <tr>\n",
       "      <th>1</th>\n",
       "      <td>1</td>\n",
       "      <td>2</td>\n",
       "      <td>52,19</td>\n",
       "      <td>2,008.0000</td>\n",
       "      <td>{\"geodesic\":false,\"crs\":{\"type\":\"name\",\"proper...</td>\n",
       "    </tr>\n",
       "    <tr>\n",
       "      <th>2</th>\n",
       "      <td>2</td>\n",
       "      <td>1</td>\n",
       "      <td>53,19</td>\n",
       "      <td>2,007.0000</td>\n",
       "      <td>{\"geodesic\":false,\"crs\":{\"type\":\"name\",\"proper...</td>\n",
       "    </tr>\n",
       "    <tr>\n",
       "      <th>3</th>\n",
       "      <td>3</td>\n",
       "      <td>2</td>\n",
       "      <td>53,19</td>\n",
       "      <td>2,008.0000</td>\n",
       "      <td>{\"geodesic\":false,\"crs\":{\"type\":\"name\",\"proper...</td>\n",
       "    </tr>\n",
       "    <tr>\n",
       "      <th>4</th>\n",
       "      <td>4</td>\n",
       "      <td>2</td>\n",
       "      <td>54,19</td>\n",
       "      <td>2,007.0000</td>\n",
       "      <td>{\"geodesic\":false,\"crs\":{\"type\":\"name\",\"proper...</td>\n",
       "    </tr>\n",
       "  </tbody>\n",
       "</table>\n",
       "</div>"
      ],
      "text/plain": [
       "   system:index  fireCount grid_id                                     year  \\\n",
       "0             0          1   52,19                               2,007.0000   \n",
       "1             1          2   52,19                               2,008.0000   \n",
       "2             2          1   53,19                               2,007.0000   \n",
       "3             3          2   53,19                               2,008.0000   \n",
       "4             4          2   54,19                               2,007.0000   \n",
       "\n",
       "                                                .geo  \n",
       "0  {\"geodesic\":false,\"crs\":{\"type\":\"name\",\"proper...  \n",
       "1  {\"geodesic\":false,\"crs\":{\"type\":\"name\",\"proper...  \n",
       "2  {\"geodesic\":false,\"crs\":{\"type\":\"name\",\"proper...  \n",
       "3  {\"geodesic\":false,\"crs\":{\"type\":\"name\",\"proper...  \n",
       "4  {\"geodesic\":false,\"crs\":{\"type\":\"name\",\"proper...  "
      ]
     },
     "execution_count": 9,
     "metadata": {},
     "output_type": "execute_result"
    }
   ],
   "source": [
    "firms_data2.head()"
   ]
  },
  {
   "cell_type": "code",
   "execution_count": 19,
   "id": "a2e9da3e-a903-4fa0-ae16-05de047cb7bc",
   "metadata": {},
   "outputs": [
    {
     "data": {
      "text/plain": [
       "(1700, 5)"
      ]
     },
     "execution_count": 19,
     "metadata": {},
     "output_type": "execute_result"
    }
   ],
   "source": [
    "firms_data2.shape"
   ]
  },
  {
   "cell_type": "code",
   "execution_count": 10,
   "id": "22857004-35ed-4571-b3f5-5175acc2cf0e",
   "metadata": {},
   "outputs": [],
   "source": [
    "merged_data = pd.concat([firms_data1, firms_data2], ignore_index=True)"
   ]
  },
  {
   "cell_type": "code",
   "execution_count": 11,
   "id": "943e052b-0673-4a81-9fd7-fb0651bcf4b1",
   "metadata": {},
   "outputs": [
    {
     "data": {
      "text/html": [
       "<div>\n",
       "<style scoped>\n",
       "    .dataframe tbody tr th:only-of-type {\n",
       "        vertical-align: middle;\n",
       "    }\n",
       "\n",
       "    .dataframe tbody tr th {\n",
       "        vertical-align: top;\n",
       "    }\n",
       "\n",
       "    .dataframe thead th {\n",
       "        text-align: right;\n",
       "    }\n",
       "</style>\n",
       "<table border=\"1\" class=\"dataframe\">\n",
       "  <thead>\n",
       "    <tr style=\"text-align: right;\">\n",
       "      <th></th>\n",
       "      <th>system:index</th>\n",
       "      <th>fireCount</th>\n",
       "      <th>grid_id</th>\n",
       "      <th>year</th>\n",
       "      <th>.geo</th>\n",
       "    </tr>\n",
       "  </thead>\n",
       "  <tbody>\n",
       "    <tr>\n",
       "      <th>0</th>\n",
       "      <td>0</td>\n",
       "      <td>1</td>\n",
       "      <td>52,19</td>\n",
       "      <td>2,004.0000</td>\n",
       "      <td>{\"geodesic\":false,\"crs\":{\"type\":\"name\",\"proper...</td>\n",
       "    </tr>\n",
       "    <tr>\n",
       "      <th>1</th>\n",
       "      <td>1</td>\n",
       "      <td>2</td>\n",
       "      <td>52,19</td>\n",
       "      <td>2,005.0000</td>\n",
       "      <td>{\"geodesic\":false,\"crs\":{\"type\":\"name\",\"proper...</td>\n",
       "    </tr>\n",
       "    <tr>\n",
       "      <th>2</th>\n",
       "      <td>2</td>\n",
       "      <td>1</td>\n",
       "      <td>52,19</td>\n",
       "      <td>2,006.0000</td>\n",
       "      <td>{\"geodesic\":false,\"crs\":{\"type\":\"name\",\"proper...</td>\n",
       "    </tr>\n",
       "    <tr>\n",
       "      <th>3</th>\n",
       "      <td>3</td>\n",
       "      <td>1</td>\n",
       "      <td>53,19</td>\n",
       "      <td>2,004.0000</td>\n",
       "      <td>{\"geodesic\":false,\"crs\":{\"type\":\"name\",\"proper...</td>\n",
       "    </tr>\n",
       "    <tr>\n",
       "      <th>4</th>\n",
       "      <td>4</td>\n",
       "      <td>1</td>\n",
       "      <td>53,19</td>\n",
       "      <td>2,005.0000</td>\n",
       "      <td>{\"geodesic\":false,\"crs\":{\"type\":\"name\",\"proper...</td>\n",
       "    </tr>\n",
       "    <tr>\n",
       "      <th>5</th>\n",
       "      <td>5</td>\n",
       "      <td>1</td>\n",
       "      <td>53,19</td>\n",
       "      <td>2,006.0000</td>\n",
       "      <td>{\"geodesic\":false,\"crs\":{\"type\":\"name\",\"proper...</td>\n",
       "    </tr>\n",
       "    <tr>\n",
       "      <th>6</th>\n",
       "      <td>6</td>\n",
       "      <td>1</td>\n",
       "      <td>54,19</td>\n",
       "      <td>2,004.0000</td>\n",
       "      <td>{\"geodesic\":false,\"crs\":{\"type\":\"name\",\"proper...</td>\n",
       "    </tr>\n",
       "    <tr>\n",
       "      <th>7</th>\n",
       "      <td>7</td>\n",
       "      <td>1</td>\n",
       "      <td>54,19</td>\n",
       "      <td>2,005.0000</td>\n",
       "      <td>{\"geodesic\":false,\"crs\":{\"type\":\"name\",\"proper...</td>\n",
       "    </tr>\n",
       "    <tr>\n",
       "      <th>8</th>\n",
       "      <td>8</td>\n",
       "      <td>3</td>\n",
       "      <td>54,19</td>\n",
       "      <td>2,006.0000</td>\n",
       "      <td>{\"geodesic\":false,\"crs\":{\"type\":\"name\",\"proper...</td>\n",
       "    </tr>\n",
       "    <tr>\n",
       "      <th>9</th>\n",
       "      <td>9</td>\n",
       "      <td>1</td>\n",
       "      <td>52,20</td>\n",
       "      <td>2,004.0000</td>\n",
       "      <td>{\"geodesic\":false,\"crs\":{\"type\":\"name\",\"proper...</td>\n",
       "    </tr>\n",
       "  </tbody>\n",
       "</table>\n",
       "</div>"
      ],
      "text/plain": [
       "   system:index  fireCount grid_id                                     year  \\\n",
       "0             0          1   52,19                               2,004.0000   \n",
       "1             1          2   52,19                               2,005.0000   \n",
       "2             2          1   52,19                               2,006.0000   \n",
       "3             3          1   53,19                               2,004.0000   \n",
       "4             4          1   53,19                               2,005.0000   \n",
       "5             5          1   53,19                               2,006.0000   \n",
       "6             6          1   54,19                               2,004.0000   \n",
       "7             7          1   54,19                               2,005.0000   \n",
       "8             8          3   54,19                               2,006.0000   \n",
       "9             9          1   52,20                               2,004.0000   \n",
       "\n",
       "                                                .geo  \n",
       "0  {\"geodesic\":false,\"crs\":{\"type\":\"name\",\"proper...  \n",
       "1  {\"geodesic\":false,\"crs\":{\"type\":\"name\",\"proper...  \n",
       "2  {\"geodesic\":false,\"crs\":{\"type\":\"name\",\"proper...  \n",
       "3  {\"geodesic\":false,\"crs\":{\"type\":\"name\",\"proper...  \n",
       "4  {\"geodesic\":false,\"crs\":{\"type\":\"name\",\"proper...  \n",
       "5  {\"geodesic\":false,\"crs\":{\"type\":\"name\",\"proper...  \n",
       "6  {\"geodesic\":false,\"crs\":{\"type\":\"name\",\"proper...  \n",
       "7  {\"geodesic\":false,\"crs\":{\"type\":\"name\",\"proper...  \n",
       "8  {\"geodesic\":false,\"crs\":{\"type\":\"name\",\"proper...  \n",
       "9  {\"geodesic\":false,\"crs\":{\"type\":\"name\",\"proper...  "
      ]
     },
     "execution_count": 11,
     "metadata": {},
     "output_type": "execute_result"
    }
   ],
   "source": [
    "merged_data.head(10)"
   ]
  },
  {
   "cell_type": "code",
   "execution_count": 20,
   "id": "dcf9d53a-0f4a-43a6-bba0-c3d12852b145",
   "metadata": {},
   "outputs": [
    {
     "data": {
      "text/plain": [
       "(4250, 5)"
      ]
     },
     "execution_count": 20,
     "metadata": {},
     "output_type": "execute_result"
    }
   ],
   "source": [
    "merged_data.shape"
   ]
  },
  {
   "cell_type": "code",
   "execution_count": 21,
   "id": "09dde2ae-7727-4682-80bd-173c1a704b82",
   "metadata": {},
   "outputs": [],
   "source": [
    "unique_years = merged_data['year'].unique()"
   ]
  },
  {
   "cell_type": "code",
   "execution_count": 22,
   "id": "d0bafc86-ab58-471e-baf4-887d80c150a8",
   "metadata": {},
   "outputs": [
    {
     "name": "stdout",
     "output_type": "stream",
     "text": [
      "Unique years in merged data: [2004.0, 2005.0, 2006.0, 2007.0, 2008.0]\n"
     ]
    }
   ],
   "source": [
    "print(\"Unique years in merged data:\", sorted(unique_years))"
   ]
  },
  {
   "cell_type": "code",
   "execution_count": 23,
   "id": "75d5d5dc-07fd-4963-9010-5f3b4a914070",
   "metadata": {},
   "outputs": [],
   "source": [
    "unique_grid_id = merged_data['grid_id'].unique()"
   ]
  },
  {
   "cell_type": "code",
   "execution_count": 29,
   "id": "9035dc52-7598-4e18-98be-74d0869b5c36",
   "metadata": {},
   "outputs": [],
   "source": [
    "#print(\"Unique grid_id in merged data:\", sorted(unique_grid_id))"
   ]
  },
  {
   "cell_type": "code",
   "execution_count": 33,
   "id": "27447fe6-400e-4c63-a41f-4d4e3ab5cc85",
   "metadata": {},
   "outputs": [],
   "source": [
    "#unique_grid_id"
   ]
  },
  {
   "cell_type": "code",
   "execution_count": 31,
   "id": "6a2c81d6-520a-406b-93f5-08bd63faf18a",
   "metadata": {},
   "outputs": [],
   "source": [
    "#merged_data1 = pd.merge(firms_data1, firms_data2, on=['grid_id', 'year'], how='outer')"
   ]
  },
  {
   "cell_type": "code",
   "execution_count": 32,
   "id": "27b3c3cc-0ea7-4dbd-934c-c02caf790955",
   "metadata": {},
   "outputs": [],
   "source": [
    "#merged_data1.head(10)"
   ]
  },
  {
   "cell_type": "code",
   "execution_count": 15,
   "id": "09047bf7-10cf-4e72-aa80-05e32be04858",
   "metadata": {},
   "outputs": [],
   "source": [
    "merged_data.to_csv('merged_firms_data.csv', index=False)"
   ]
  },
  {
   "cell_type": "code",
   "execution_count": 16,
   "id": "54ad2ce3-32a3-4a68-8277-0ee43924e07f",
   "metadata": {},
   "outputs": [],
   "source": [
    "firms_data3 = pd.read_csv(\"data/Sudan_Fire_Counts_Grid_Year_2009_2010.csv\", encoding = \"latin1\")"
   ]
  },
  {
   "cell_type": "code",
   "execution_count": null,
   "id": "4ee56ed9-6374-447b-8690-4903cc8b9542",
   "metadata": {},
   "outputs": [],
   "source": []
  },
  {
   "cell_type": "code",
   "execution_count": null,
   "id": "0940aad7-a5c9-4509-a2e2-ae15b01bf0e0",
   "metadata": {},
   "outputs": [],
   "source": []
  }
 ],
 "metadata": {
  "kernelspec": {
   "display_name": "Python 3 (ipykernel)",
   "language": "python",
   "name": "python3"
  },
  "language_info": {
   "codemirror_mode": {
    "name": "ipython",
    "version": 3
   },
   "file_extension": ".py",
   "mimetype": "text/x-python",
   "name": "python",
   "nbconvert_exporter": "python",
   "pygments_lexer": "ipython3",
   "version": "3.11.5"
  }
 },
 "nbformat": 4,
 "nbformat_minor": 5
}
